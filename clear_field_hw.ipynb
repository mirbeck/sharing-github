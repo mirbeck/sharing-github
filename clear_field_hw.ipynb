{
 "cells": [
  {
   "cell_type": "code",
   "execution_count": 8,
   "metadata": {},
   "outputs": [
    {
     "name": "stdout",
     "output_type": "stream",
     "text": [
      "',(0):>   1      0      0      0      0   \n",
      "   2      0      0      0      0      0   \n",
      "   0      0      0      0      0      0   \n",
      "   0      0      1      0      0      0   \n"
     ]
    }
   ],
   "source": [
    "from carel import Carel\n",
    "from carelgrid import CarelGrid\n",
    "from gamecanvas import GameCanvas\n",
    "\n",
    "field = [[0 for x in range(6)] for y in range(4)]\n",
    "\n",
    "field[0][1] = 1\n",
    "field[1][0] = 2\n",
    "field[3][2] = 1\n",
    "\n",
    "grid = CarelGrid(field)\n",
    "canvas = GameCanvas(speed=1);\n",
    "carel = Carel(canvas, grid);\n",
    "\n",
    "def move():\n",
    "    carel.move()\n",
    "def turn_left():\n",
    "    carel.turn_left()\n",
    "def drop_beeper():\n",
    "    carel.drop_beeper()\n",
    "def collect_beeper():\n",
    "    carel.collect_beeper()\n",
    "def is_beeper():\n",
    "    return carel.is_beeper()\n",
    "def is_front_clear():\n",
    "    return carel.is_front_clear()\n",
    "def show():\n",
    "    carel.show()"
   ]
  },
  {
   "cell_type": "code",
   "execution_count": 9,
   "metadata": {},
   "outputs": [],
   "source": [
    "# New methods go here\n",
    "\n",
    "# Example\n",
    "\n",
    "def turn_around():\n",
    "    turn_left()\n",
    "    turn_left()\n",
    "def clean_line():\n",
    "    while True:\n",
    "        clean_cell()\n",
    "        if is_front_clear():\n",
    "            move()\n",
    "        else:\n",
    "            break\n",
    "def clean_cell():\n",
    "    while is_beeper():\n",
    "        collect_beeper()\n",
    "        \n",
    "def turn_right():\n",
    "    turn_around()\n",
    "    turn_left()\n",
    "    \n",
    "def clean_field():\n",
    "    while True:\n",
    "        clean_line()\n",
    "        turn_right()\n",
    "        if not is_front_clear():\n",
    "            break\n",
    "        move()\n",
    "        turn_right()\n",
    "        clean_line()\n",
    "        turn_left()\n",
    "        if not is_front_clear():\n",
    "            break\n",
    "        move()\n",
    "        turn_left()\n",
    "    "
   ]
  },
  {
   "cell_type": "code",
   "execution_count": 10,
   "metadata": {
    "scrolled": true
   },
   "outputs": [
    {
     "name": "stdout",
     "output_type": "stream",
     "text": [
      "   0      0      0      0      0      0   \n",
      "   0      0      0      0      0      0   \n",
      "   0      0      0      0      0      0   \n",
      "',(0):v   0      0      0      0      0   \n"
     ]
    }
   ],
   "source": [
    "# Clear field from all beepers  \n",
    "clean_field()\n",
    "\n",
    "    \n",
    "    \n",
    "    \n",
    "    \n",
    "    "
   ]
  }
 ],
 "metadata": {
  "kernelspec": {
   "display_name": "Python 3",
   "language": "python",
   "name": "python3"
  },
  "language_info": {
   "codemirror_mode": {
    "name": "ipython",
    "version": 3
   },
   "file_extension": ".py",
   "mimetype": "text/x-python",
   "name": "python",
   "nbconvert_exporter": "python",
   "pygments_lexer": "ipython3",
   "version": "3.7.0"
  }
 },
 "nbformat": 4,
 "nbformat_minor": 2
}
