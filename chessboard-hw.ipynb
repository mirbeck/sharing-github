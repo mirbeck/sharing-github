{
 "cells": [
  {
   "cell_type": "code",
   "execution_count": 47,
   "metadata": {},
   "outputs": [
    {
     "name": "stdout",
     "output_type": "stream",
     "text": [
      "',(0):>   1      0      0      0      0   \n",
      "   2      0      0      0      0      0   \n",
      "   0      0      0      0      0      0   \n",
      "   0      0      1      0      0      0   \n"
     ]
    }
   ],
   "source": [
    "from carel import Carel\n",
    "from carelgrid import CarelGrid\n",
    "from gamecanvas import GameCanvas\n",
    "\n",
    "field = [[0 for x in range(6)] for y in range(4)]\n",
    "\n",
    "field[0][1] = 1\n",
    "field[1][0] = 2\n",
    "field[3][2] = 1\n",
    "\n",
    "grid = CarelGrid(field)\n",
    "canvas = GameCanvas(speed=1);\n",
    "carel = Carel(canvas, grid);\n",
    "\n",
    "def move():\n",
    "    carel.move()\n",
    "def turn_left():\n",
    "    carel.turn_left()\n",
    "def drop_beeper():\n",
    "    carel.drop_beeper()\n",
    "def collect_beeper():\n",
    "    carel.collect_beeper()\n",
    "def is_beeper():\n",
    "    return carel.is_beeper()\n",
    "def is_front_clear():\n",
    "    return carel.is_front_clear()\n",
    "def show():\n",
    "    carel.show()"
   ]
  },
  {
   "cell_type": "code",
   "execution_count": 50,
   "metadata": {},
   "outputs": [
    {
     "ename": "SyntaxError",
     "evalue": "invalid syntax (<ipython-input-50-a512f2b73f16>, line 48)",
     "output_type": "error",
     "traceback": [
      "\u001b[0;36m  File \u001b[0;32m\"<ipython-input-50-a512f2b73f16>\"\u001b[0;36m, line \u001b[0;32m48\u001b[0m\n\u001b[0;31m    if else:\u001b[0m\n\u001b[0m          ^\u001b[0m\n\u001b[0;31mSyntaxError\u001b[0m\u001b[0;31m:\u001b[0m invalid syntax\n"
     ]
    }
   ],
   "source": [
    "# New methods go here\n",
    "\n",
    "# Example\n",
    "\n",
    "def turn_around():\n",
    "    turn_left()\n",
    "    turn_left()\n",
    "    \n",
    "   \n",
    "def fill_line_one():\n",
    "    while True:\n",
    "        clean_cell()\n",
    "        drop_beeper()\n",
    "        if is_front_clear():\n",
    "            move()\n",
    "        else:\n",
    "            break\n",
    "def clean_cell():\n",
    "    while is_beeper():\n",
    "        collect_beeper()\n",
    "        \n",
    "def turn_right():\n",
    "    turn_around()\n",
    "    turn_left()\n",
    "    \n",
    "def fill_field_one():\n",
    "    while True:\n",
    "        fill_line_one()\n",
    "        turn_right()\n",
    "        if not is_front_clear():\n",
    "            break\n",
    "        move()\n",
    "        turn_right()\n",
    "        fill_line_one()\n",
    "        turn_left()\n",
    "        if not is_front_clear():\n",
    "            break\n",
    "        move()\n",
    "        turn_left()\n",
    "        \n",
    "def fill_line_zero():\n",
    "    while True:\n",
    "        clean_cell()\n",
    "        if is_front_clear():\n",
    "            move()\n",
    "            if is_front_clear():\n",
    "                move()\n",
    "        else:\n",
    "            break\n",
    "\n",
    "def fill_field_zero():\n",
    "    while True:\n",
    "        fill_line_zero()\n",
    "        turn_left()\n",
    "        if not is_front_clear():\n",
    "            break\n",
    "        move()\n",
    "        turn_left()\n",
    "        move()\n",
    "        fill_line_zero()\n",
    "        turn_right()\n",
    "        if not is_front_clear():\n",
    "            break\n",
    "        move()\n",
    "        turn_right()\n",
    "\n"
   ]
  },
  {
   "cell_type": "code",
   "execution_count": 46,
   "metadata": {},
   "outputs": [
    {
     "name": "stdout",
     "output_type": "stream",
     "text": [
      "',(0):^   1      0      1      0      1   \n",
      "   0      1      0      1      0      0   \n",
      "   0      1      0      1      0      1   \n",
      "   0      1      0      1      0      0   \n"
     ]
    }
   ],
   "source": [
    "# Make a chessboard\n",
    "fill_field_one()\n",
    "turn_left()\n",
    "fill_field_zero()"
   ]
  }
 ],
 "metadata": {
  "kernelspec": {
   "display_name": "Python 3",
   "language": "python",
   "name": "python3"
  },
  "language_info": {
   "codemirror_mode": {
    "name": "ipython",
    "version": 3
   },
   "file_extension": ".py",
   "mimetype": "text/x-python",
   "name": "python",
   "nbconvert_exporter": "python",
   "pygments_lexer": "ipython3",
   "version": "3.7.0"
  }
 },
 "nbformat": 4,
 "nbformat_minor": 2
}
